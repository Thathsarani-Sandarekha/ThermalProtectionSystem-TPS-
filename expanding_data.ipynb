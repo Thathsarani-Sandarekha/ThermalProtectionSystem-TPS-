{
 "cells": [
  {
   "cell_type": "code",
   "execution_count": 19,
   "metadata": {},
   "outputs": [],
   "source": [
    "import pandas as pd\n",
    "import numpy as np\n",
    "from sklearn.preprocessing import MinMaxScaler, LabelEncoder"
   ]
  },
  {
   "cell_type": "code",
   "execution_count": 20,
   "metadata": {},
   "outputs": [],
   "source": [
    "# Step 1: Load the material dataset from a CSV file\n",
    "df = pd.read_csv(\"df_ga.csv\")"
   ]
  },
  {
   "cell_type": "code",
   "execution_count": 21,
   "metadata": {},
   "outputs": [],
   "source": [
    "# Step 2: Separate numerical and categorical features\n",
    "categorical_cols = ['Material']"
   ]
  },
  {
   "cell_type": "code",
   "execution_count": 22,
   "metadata": {},
   "outputs": [],
   "source": [
    "# Step 3: Encode Categorical Features using Label Encoding\n",
    "label_encoder = LabelEncoder()\n",
    "\n",
    "for col in categorical_cols:\n",
    "    df[col + '_encoded'] = label_encoder.fit_transform(df[col])"
   ]
  },
  {
   "cell_type": "code",
   "execution_count": 23,
   "metadata": {},
   "outputs": [],
   "source": [
    "area = 1.0  # Assume area = 1 m^2 for simplicity"
   ]
  },
  {
   "cell_type": "code",
   "execution_count": 24,
   "metadata": {},
   "outputs": [],
   "source": [
    "# Step 1: Define the range-based approach for thickness\n",
    "\n",
    "def generate_range_based_thickness(min_thickness=0.01, max_thickness=0.1, num_samples=5):\n",
    "    \"\"\"\n",
    "    Generate a range of thickness values between min_thickness and max_thickness.\n",
    "    \"\"\"\n",
    "    return np.linspace(min_thickness, max_thickness, num_samples)\n",
    "\n",
    "\n",
    "# Step 2: Define the physics-based approach for thickness\n",
    "\n",
    "def calculate_physics_based_thickness(thermal_conductivity, temp_difference=1200, heat_flux=50):\n",
    "    \"\"\"\n",
    "    Calculate the required thickness based on the thermal conductivity, \n",
    "    temperature difference (default 1200°C), and heat flux (default 50 W/m^2).\n",
    "    The formula used is: t = (k * ∆T) / q\n",
    "    \n",
    "    Args:\n",
    "        thermal_conductivity (float): Thermal conductivity of the material (W/m*K).\n",
    "        temp_difference (float): Temperature difference (K or °C if relative) during re-entry.\n",
    "        heat_flux (float): Heat flux in W/m^2.\n",
    "    \n",
    "    Returns:\n",
    "        float: Calculated thickness in meters.\n",
    "    \"\"\"\n",
    "    if heat_flux == 0:  # Avoid division by zero\n",
    "        return np.nan\n",
    "    return (thermal_conductivity * temp_difference) / heat_flux\n",
    "\n",
    "\n",
    "# Step 3: Apply both thickness generation methods to each material\n",
    "\n",
    "# Number of range-based samples per material\n",
    "num_samples = 5  \n",
    "\n",
    "# Create lists to store new rows of data\n",
    "new_rows = []\n",
    "\n",
    "for index, row in df.iterrows():\n",
    "    material_name = row['Material']\n",
    "    thermal_conductivity = row['Thermal Conductivity (W/m*K)']\n",
    "    \n",
    "    # Generate range-based thickness values\n",
    "    range_based_thicknesses = generate_range_based_thickness(num_samples=num_samples)\n",
    "    \n",
    "    # Generate physics-based thickness for one or two scenarios\n",
    "    physics_based_thickness1 = calculate_physics_based_thickness(thermal_conductivity, temp_difference=1200, heat_flux=50)\n",
    "    physics_based_thickness2 = calculate_physics_based_thickness(thermal_conductivity, temp_difference=1000, heat_flux=60)\n",
    "    \n",
    "    # Combine all thickness values for this material\n",
    "    thickness_values = np.append(range_based_thicknesses, [physics_based_thickness1, physics_based_thickness2])\n",
    "    \n",
    "    # For each thickness value, create a new row with the material properties\n",
    "    for thickness in thickness_values:\n",
    "        new_row = row.copy()\n",
    "        new_row['Thickness'] = round(thickness, 4)  # Round thickness to 4 decimal places\n",
    "        # Calculate new features that depend on thickness\n",
    "        new_row['Weight'] = round(new_row['Material Density (kg/m3)'] * thickness * area, 4)  # Area is assumed to be 1 m^2\n",
    "        new_row['Cost'] = round(new_row['Price (c) ($/m^3)'] * thickness * area, 4)  # Area is assumed to be 1 m^2\n",
    "        new_rows.append(new_row)"
   ]
  },
  {
   "cell_type": "code",
   "execution_count": 25,
   "metadata": {},
   "outputs": [],
   "source": [
    "# Convert the list of new rows into a DataFrame\n",
    "expanded_df = pd.DataFrame(new_rows)"
   ]
  },
  {
   "cell_type": "code",
   "execution_count": 26,
   "metadata": {},
   "outputs": [],
   "source": [
    "# Optional: Drop rows where thickness might be NaN due to issues with physics-based calculation\n",
    "expanded_df = expanded_df.dropna(subset=['Thickness'])"
   ]
  },
  {
   "cell_type": "code",
   "execution_count": 27,
   "metadata": {},
   "outputs": [
    {
     "name": "stdout",
     "output_type": "stream",
     "text": [
      "New dataset saved to df_expanded_ga.csv with 14000 rows.\n"
     ]
    }
   ],
   "source": [
    "# Step 4: Save the new dataset\n",
    "output_path = \"df_expanded_ga.csv\" \n",
    "expanded_df.to_csv(output_path, index=False, float_format='%.4f')\n",
    "\n",
    "print(f\"New dataset saved to {output_path} with {len(expanded_df)} rows.\")"
   ]
  }
 ],
 "metadata": {
  "kernelspec": {
   "display_name": "stock_mark_env",
   "language": "python",
   "name": "python3"
  },
  "language_info": {
   "codemirror_mode": {
    "name": "ipython",
    "version": 3
   },
   "file_extension": ".py",
   "mimetype": "text/x-python",
   "name": "python",
   "nbconvert_exporter": "python",
   "pygments_lexer": "ipython3",
   "version": "3.11.10"
  }
 },
 "nbformat": 4,
 "nbformat_minor": 2
}
